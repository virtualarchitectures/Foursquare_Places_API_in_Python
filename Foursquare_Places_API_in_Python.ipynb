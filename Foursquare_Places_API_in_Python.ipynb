{
 "cells": [
  {
   "cell_type": "markdown",
   "metadata": {},
   "source": [
    "# Foursquare Places API in Python"
   ]
  },
  {
   "cell_type": "markdown",
   "metadata": {},
   "source": [
    "This notebook demonstrates the use of Python to access Foursquare's Places API to get locations and details of venues. The service is based on the idea of crowdsourcing recommendations and 'checkins' from users of the Foursquare and Swarm mobile apps. To see the service's browser-based front end you can visit the [Foursquare City Guide](https://foursquare.com/city-guide).\n",
    "\n",
    "In order to use the Foursquare Places API you will need to [create a Foursquare developer account](https://developer.foursquare.com/). You will then need to create a new app. See the [Places API documentation](https://developer.foursquare.com/docs/api) for further details. The default 'Sandbox' account enables you to make 950 regular API calls and 50 premium calls per day. Check details of [Rate Limits](https://developer.foursquare.com/docs/api/troubleshooting/rate-limits) and the [Endpoints Overview](https://developer.foursquare.com/docs/api/endpoints) for further information.\n",
    "\n",
    "NOTE: You can apply for a free 'Personal' account which enables 99,500 regular calls and 500 premium calls per day. However, be aware that upgrading to ta personal account requires verification with a credit card."
   ]
  },
  {
   "cell_type": "markdown",
   "metadata": {},
   "source": [
    "#### Import Dependencies"
   ]
  },
  {
   "cell_type": "code",
   "execution_count": null,
   "metadata": {},
   "outputs": [],
   "source": [
    "# Import the Requests library to make HTTP requests and handle responses\n",
    "import requests\n",
    "# Import the JSON library to process the API response\n",
    "import json\n",
    "# Import JSON normalize from Pandas to flatten JSON\n",
    "from pandas.io.json import json_normalize\n",
    "# Import date from datetime for setting and formatting date\n",
    "from datetime import date\n",
    "# Import the folium library to map our data\n",
    "import folium\n",
    "# Import the folium fullscreen plugin\n",
    "from folium.plugins import Fullscreen"
   ]
  },
  {
   "cell_type": "markdown",
   "metadata": {},
   "source": [
    "#### Authentication Credentials"
   ]
  },
  {
   "cell_type": "code",
   "execution_count": null,
   "metadata": {},
   "outputs": [],
   "source": [
    "# Enter the details from the Foursquare App you created here\n",
    "client_id = ''\n",
    "client_secret = ''\n",
    "\n",
    "# The API version is a date in YYYYMMDD format. The current or a past date is required.\n",
    "api_ver = date.today().strftime('%Y%m%d')"
   ]
  },
  {
   "cell_type": "markdown",
   "metadata": {},
   "source": [
    "#### REST API Details"
   ]
  },
  {
   "cell_type": "code",
   "execution_count": null,
   "metadata": {},
   "outputs": [],
   "source": [
    "# Basue URL for Places API endpoints\n",
    "base_url = 'https://api.foursquare.com/v2/'\n",
    "#End point group\n",
    "group = 'venues/'"
   ]
  },
  {
   "cell_type": "markdown",
   "metadata": {},
   "source": [
    "## Searching for Venues by Location"
   ]
  },
  {
   "cell_type": "markdown",
   "metadata": {},
   "source": [
    "As Foursquare is a location-based service the primary means of obtaining details of venues is by specifying a location. This can be done in several ways but the appropriate method varies depending on the particular endpoint. There are three alternative methods:\n",
    "1. Specify Lat/Lon coordinates in WGS84 for the endpoint's `ll` parameter.\n",
    "2. Provide a place name (e.g. `'Nelson's Column'`) for the endpoint's `near` parameter.\n",
    "3. Provide a geographic bounding box by specifying two sets of Lat/Lon coordinates in WGS84. The first describes the southwest corner and is placed in the `sw` parameter. The second describes the northeast corner and is entered for the `nw` parameter.\n",
    "\n",
    "To obtain WGS84 Lat/Lon coordinates you can use [OpenStreetMap](https://www.openstreetmap.org/). Methods 1 and 2 can be used in combination with the `radius` parameter which can be used to focus or expand the search area. The search radius defaults to a city-wide area and has a maximum radius of approximately 100,000 metres (or 2,000 in the case of the Trending Venues endpoint). Method 3 are not valid `ll` or `radius` and have a maximum area of up to 10,000 square kilometers.\n",
    "\n",
    "The `search`, `explore` and `trending` endpoints in the venue group all support methods 1 and 2. Method 3 is only supported by the `search` endpoint. See [Endpoints Overview](https://developer.foursquare.com/docs/api/endpoints).\n",
    "\n",
    "**NOTE: Specifying a larger area does NOT necessarily result in more results.**\n",
    "\n",
    "There is a `limit` parameter associated with each of these endpoints which determines the maximum number of results per API call. This parameter has a maximum value of 50 which means that expanding the search area in urban regions simply results in a spatially wider distribution of results. In urban areas making a larger number of call on smaller neighbouring area may help obtain a greater number of results. Be wary of rate limits however. See [Foursquare Venue API & Number of Results](https://stackoverflow.com/questions/8277192/foursquare-venue-api-number-of-results) and [Foursquare API: Getting an exhaustive list of venues in a given area](https://stackoverflow.com/questions/10900896/foursquare-api-getting-an-exhaustive-list-of-venues-in-a-given-area) for more information.\n",
    "\n",
    "For now we'll focus on the endpoints for Search and Trending Venues."
   ]
  },
  {
   "cell_type": "markdown",
   "metadata": {},
   "source": [
    "#### API Endpoints"
   ]
  },
  {
   "cell_type": "code",
   "execution_count": null,
   "metadata": {},
   "outputs": [],
   "source": [
    "#Regular API endpoints for the venues group\n",
    "search_ep = 'search/'\n",
    "trend_ep = 'trending/'"
   ]
  },
  {
   "cell_type": "markdown",
   "metadata": {},
   "source": [
    "## Trending Venues"
   ]
  },
  {
   "cell_type": "markdown",
   "metadata": {},
   "source": [
    "This returns a list of venues near the specified location with the most people currently checked in. See [Get Trending Venues](https://developer.foursquare.com/docs/api/venues/trending) for endpoint parameters and response."
   ]
  },
  {
   "cell_type": "markdown",
   "metadata": {},
   "source": [
    "#### API call URL and parameters"
   ]
  },
  {
   "cell_type": "code",
   "execution_count": null,
   "metadata": {},
   "outputs": [],
   "source": [
    "# Trending endpoint URL\n",
    "url = base_url + group + trend_ep\n",
    "\n",
    "# Trending endpoint parameters\n",
    "params = dict(\n",
    "    client_id = client_id,\n",
    "    client_secret = client_secret,\n",
    "    v = api_ver,\n",
    "    #ll = '51.50775,-0.12794',\n",
    "    near = 'Trafalgar Square',\n",
    "    radius = 2000,\n",
    "    limit=50\n",
    ")"
   ]
  },
  {
   "cell_type": "markdown",
   "metadata": {},
   "source": [
    "#### API request"
   ]
  },
  {
   "cell_type": "code",
   "execution_count": null,
   "metadata": {},
   "outputs": [],
   "source": [
    "# Make the API call \n",
    "payload = requests.get(url=url, params=params)\n",
    "# Store the returned payload\n",
    "data = json.loads(payload.text)\n",
    "# View the JSON 'response' object to confirm its structure\n",
    "#data['response']"
   ]
  },
  {
   "cell_type": "markdown",
   "metadata": {},
   "source": [
    "#### Process the response"
   ]
  },
  {
   "cell_type": "code",
   "execution_count": null,
   "metadata": {},
   "outputs": [],
   "source": [
    "try:\n",
    "    # Select the venues from the JSON response\n",
    "    venues_data = data['response']['venues']\n",
    "    # Flatten the JSON and load into a PANDAS dataframe\n",
    "    venues_df = json_normalize(venues_data)\n",
    "    # Filter the dataframe to select required fields\n",
    "    filtered_columns = ['id',\n",
    "                        'name',\n",
    "                        'location.address',\n",
    "                        'location.city',\n",
    "                        'location.state',\n",
    "                        'location.postalCode',\n",
    "                        'location.country',\n",
    "                        'location.distance',\n",
    "                        'location.lat',\n",
    "                        'location.lng'\n",
    "                       ]\n",
    "    # Save the filtered group of columns as a new dataframe and reindex\n",
    "    venues = venues_df.reindex(columns = filtered_columns)\n",
    "    # Clean column names for display\n",
    "    venues.columns = venues.columns.str.replace('location.','')\n",
    "except:\n",
    "    print('There are no venues in the API reponse!')\n",
    "\n",
    "try:\n",
    "    # Display the new dataframe\n",
    "    venues\n",
    "except Exception as e: print(e) "
   ]
  },
  {
   "cell_type": "markdown",
   "metadata": {},
   "source": [
    "#### Display the new dataframe"
   ]
  },
  {
   "cell_type": "code",
   "execution_count": null,
   "metadata": {},
   "outputs": [],
   "source": [
    "# Display the new dataframe\n",
    "venues"
   ]
  },
  {
   "cell_type": "markdown",
   "metadata": {},
   "source": [
    "#### Visualise the venue locations on a map with Folium"
   ]
  },
  {
   "cell_type": "code",
   "execution_count": null,
   "metadata": {},
   "outputs": [],
   "source": [
    "# Set the map's initial centrepoint, zoom level and basemap\n",
    "folium_map = folium.Map(\n",
    "    location = [51.50775,-0.12794],\n",
    "    min_zoom = 3,\n",
    "    zoom_start = 13,\n",
    "    #tiles='Stamen Terrain'\n",
    ")\n",
    "\n",
    "Fullscreen(\n",
    "    position='topright',\n",
    "    title='Expand me',\n",
    "    title_cancel='Exit me',\n",
    "    force_separate_button=True\n",
    ").add_to(folium_map)\n",
    "\n",
    "search_location = folium.Marker(\n",
    "    location = [51.50775,-0.12794],\n",
    "    tooltip = 'Start Point!',\n",
    "    icon = folium.Icon(color ='green', icon ='info-sign')\n",
    ").add_to(folium_map)\n",
    "\n",
    "# Add markers by applying a lambda function along the columns (axis = 1) to add markers \n",
    "try:\n",
    "    venues.apply(\n",
    "        lambda row:folium.Marker(\n",
    "            location = [row['lat'], row['lng']],\n",
    "            icon = folium.Icon(color ='blue', icon ='flag'),\n",
    "            tooltip = row['name'] + ', ' + row['address'] + ', ' + row['postalCode']\n",
    "        ).add_to(folium_map), axis = 1)\n",
    "except Exception as e: print(e) \n",
    "\n",
    "# Draw the map\n",
    "folium_map"
   ]
  },
  {
   "cell_type": "markdown",
   "metadata": {},
   "source": [
    "## Search for Venues"
   ]
  },
  {
   "cell_type": "markdown",
   "metadata": {},
   "source": [
    "This endpoint eturns a list of venues near the specified location. It also provides the opportunity to select matches using an optional search or `query` term. See [Search for Venues](https://developer.foursquare.com/docs/api/venues/search) for endpoint parameters and response."
   ]
  },
  {
   "cell_type": "markdown",
   "metadata": {},
   "source": [
    "#### API call URL and parameters"
   ]
  },
  {
   "cell_type": "code",
   "execution_count": null,
   "metadata": {},
   "outputs": [],
   "source": [
    "# Search endpoint URL\n",
    "url = base_url + group + search_ep\n",
    "\n",
    "#Search endpoint parameters\n",
    "params = dict(\n",
    "    client_id = client_id,\n",
    "    client_secret = client_secret,\n",
    "    v = '20191010',\n",
    "    ll = '51.50775,-0.12794',\n",
    "    #ne = '51.530577,-0.075631',\n",
    "    #sw = '51.505582,-0.156312',\n",
    "    #intent = 'browse',\n",
    "    query = 'McDonalds',\n",
    "    #near = 'Trafalgar Square',\n",
    "    radius = 100000,\n",
    "    limit=50\n",
    ")"
   ]
  },
  {
   "cell_type": "markdown",
   "metadata": {},
   "source": [
    "#### API Request"
   ]
  },
  {
   "cell_type": "code",
   "execution_count": null,
   "metadata": {},
   "outputs": [],
   "source": [
    "# Make the API call \n",
    "payload = requests.get(url=url, params=params)\n",
    "# Store the returned payload\n",
    "data = json.loads(payload.text)\n",
    "# View the JSON 'response' object to confirm its structure\n",
    "#data['response']"
   ]
  },
  {
   "cell_type": "markdown",
   "metadata": {},
   "source": [
    "#### Process the response"
   ]
  },
  {
   "cell_type": "code",
   "execution_count": null,
   "metadata": {},
   "outputs": [],
   "source": [
    "try:\n",
    "    # Select the venues from the JSON response\n",
    "    venues_data = data['response']['venues']\n",
    "    # Flatten the JSON and load into a PANDAS dataframe\n",
    "    venues_df = json_normalize(venues_data)\n",
    "    # Filter the dataframe to select required fields\n",
    "    filtered_columns = ['id',\n",
    "                        'name',\n",
    "                        'location.address',\n",
    "                        'location.city',\n",
    "                        'location.state',\n",
    "                        'location.postalCode',\n",
    "                        'location.country',\n",
    "                        'location.distance',\n",
    "                        'location.lat',\n",
    "                        'location.lng'\n",
    "                       ]\n",
    "    # Save the filtered group of columns as a new dataframe and reindex\n",
    "    venues = venues_df.reindex(columns = filtered_columns)\n",
    "    # Clean column names for display\n",
    "    venues.columns = venues.columns.str.replace('location.','')\n",
    "except Exception as e: print(e) "
   ]
  },
  {
   "cell_type": "markdown",
   "metadata": {},
   "source": [
    "#### Display the new data frame"
   ]
  },
  {
   "cell_type": "code",
   "execution_count": null,
   "metadata": {},
   "outputs": [],
   "source": [
    "# Display the new dataframe\n",
    "venues"
   ]
  },
  {
   "cell_type": "markdown",
   "metadata": {},
   "source": [
    "#### Visualise the venue locations on a map with Folium"
   ]
  },
  {
   "cell_type": "code",
   "execution_count": null,
   "metadata": {},
   "outputs": [],
   "source": [
    "# Set the map's initial centrepoint, zoom level and basemap\n",
    "folium_map = folium.Map(\n",
    "    location = [51.50775,-0.12794],\n",
    "    min_zoom = 3,\n",
    "    zoom_start = 13,\n",
    "    #tiles='Stamen Terrain'\n",
    ")\n",
    "\n",
    "Fullscreen(\n",
    "    position='topright',\n",
    "    title='Expand me',\n",
    "    title_cancel='Exit me',\n",
    "    force_separate_button=True\n",
    ").add_to(folium_map)\n",
    "\n",
    "search_location = folium.Marker(\n",
    "    location = [51.50775,-0.12794],\n",
    "    tooltip = 'Start Point!',\n",
    "    icon = folium.Icon(color ='green', icon ='info-sign')\n",
    ").add_to(folium_map)\n",
    "\n",
    "# Add markers by applying a lambda function along the columns (axis = 1) to add markers \n",
    "try:\n",
    "    venues.apply(\n",
    "        lambda row:folium.Marker(\n",
    "            location = [row['lat'], row['lng']],\n",
    "            icon = folium.Icon(color ='blue', icon ='flag'),\n",
    "            tooltip = row['name'] + ', ' + row['address'] + ', ' + row['postalCode']\n",
    "        ).add_to(folium_map), axis = 1)\n",
    "except Exception as e: print(e) \n",
    "\n",
    "# Draw the map\n",
    "folium_map"
   ]
  },
  {
   "cell_type": "markdown",
   "metadata": {},
   "source": [
    "## Request Venue Details - PREMIUM API Endpoint"
   ]
  },
  {
   "cell_type": "markdown",
   "metadata": {},
   "source": [
    "This endpoint gives the full details about a venue including location, hours, popular times of data, stats about checkins and more. See [Get Details of a Venue](https://developer.foursquare.com/docs/api/venues/details) for for endpoint parameters and response.\n",
    "\n",
    "**NOTE: This is a premium API endpoint so the number of call you can make to the endpoint are more limited.**"
   ]
  },
  {
   "cell_type": "markdown",
   "metadata": {},
   "source": [
    "#### API call URL and parameters"
   ]
  },
  {
   "cell_type": "markdown",
   "metadata": {},
   "source": [
    "#### In the case of the Venue Details endpoint the main requirement is the `venueID`"
   ]
  },
  {
   "cell_type": "code",
   "execution_count": null,
   "metadata": {},
   "outputs": [],
   "source": [
    "# Venue details endpoint URL\n",
    "url = 'https://api.foursquare.com/v2/venues/'\n",
    "# VenueID\n",
    "venueID = '4c9c6a059c48236a1cb14dee'\n",
    "\n",
    "# Trending endpoint parameters\n",
    "params = dict(\n",
    "    client_id = client_id,\n",
    "    client_secret = client_secret,\n",
    "    v = api_ver,\n",
    ")"
   ]
  },
  {
   "cell_type": "markdown",
   "metadata": {},
   "source": [
    "#### API request"
   ]
  },
  {
   "cell_type": "code",
   "execution_count": null,
   "metadata": {},
   "outputs": [],
   "source": [
    "# Search endpoint URL\n",
    "url = base_url + group + venueID\n",
    "\n",
    "payload = requests.get(url=url, params=params)\n",
    "data = json.loads(payload.text)\n",
    "# View the JSON 'response' object to confirm its structure\n",
    "#data['response']"
   ]
  },
  {
   "cell_type": "markdown",
   "metadata": {},
   "source": [
    "#### Process the response"
   ]
  },
  {
   "cell_type": "code",
   "execution_count": null,
   "metadata": {},
   "outputs": [],
   "source": [
    "try:\n",
    "    # Select the venues from the JSON response\n",
    "    venues_data = data['response']['venue']\n",
    "    # Flatten the JSON and load into a PANDAS dataframe\n",
    "    venues_df = json_normalize(venues_data)\n",
    "    # Filter the dataframe to select required fields\n",
    "    filtered_columns = ['id',\n",
    "                        'name',\n",
    "                        'location.address',\n",
    "                        'location.city',\n",
    "                        'location.state',\n",
    "                        'location.postalCode',\n",
    "                        'location.country',\n",
    "                        'location.distance',\n",
    "                        'location.lat',\n",
    "                        'location.lng',\n",
    "                        'stats',\n",
    "                        'likes',\n",
    "                        'rating',\n",
    "                        'ratingColor',\n",
    "                        'ratingSignals',\n",
    "                        'hereNow',\n",
    "                        'hours',\n",
    "                        'description',\n",
    "                        'canonicalUrl',\n",
    "                       ]\n",
    "    # Save the filtered group of columns as a new dataframe and reindex\n",
    "    venues = venues_df.reindex(columns = filtered_columns)\n",
    "    # Clean column names for display\n",
    "    venues.columns = venues.columns.str.replace('location.','')\n",
    "except:\n",
    "    print('There are no venues in the API reponse!')"
   ]
  },
  {
   "cell_type": "markdown",
   "metadata": {},
   "source": [
    "#### Display the new dataframe"
   ]
  },
  {
   "cell_type": "code",
   "execution_count": null,
   "metadata": {},
   "outputs": [],
   "source": [
    "# Display the new dataframe\n",
    "venues"
   ]
  },
  {
   "cell_type": "code",
   "execution_count": null,
   "metadata": {},
   "outputs": [],
   "source": []
  }
 ],
 "metadata": {
  "kernelspec": {
   "display_name": "Python 3",
   "language": "python",
   "name": "python3"
  },
  "language_info": {
   "codemirror_mode": {
    "name": "ipython",
    "version": 3
   },
   "file_extension": ".py",
   "mimetype": "text/x-python",
   "name": "python",
   "nbconvert_exporter": "python",
   "pygments_lexer": "ipython3",
   "version": "3.7.3"
  }
 },
 "nbformat": 4,
 "nbformat_minor": 2
}
